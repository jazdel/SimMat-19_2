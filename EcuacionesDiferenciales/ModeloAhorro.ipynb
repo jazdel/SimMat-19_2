{
 "cells": [
  {
   "cell_type": "markdown",
   "metadata": {},
   "source": [
    "# Modelo del rendimiento de una cuenta de ahorro\n",
    "\n",
    "<img style=\"center\" src=\"https://static.pexels.com/photos/9660/business-money-pink-coins.jpg\" width=\"500px\" height=\"200px\" alt=\"atom\"/>\n",
    "\n",
    "> **¿Tiene el dinero el mismo valor a lo largo del tiempo?** La respuesta es *no*. Todos lo hemos vivido. \n",
    "\n",
    "> Dos situaciones básicas:\n",
    "1. <font color=blue>Inflación</font>: ¿Cuánto dinero necesitabas para comprar unas papas y un refresco hace 10 años? ¿Cuánto necesitas hoy?\n",
    "2. <font color=blue>Interés</font>: no es lo mismo tener $\\$10000$ MXN disponibles hoy a recibir $\\$10000$ MXN en un año, pues los primeros pueden ser invertidos en un negocio o una cuenta bancaria para generar **interés**. Por lo tanto los $\\$10000$ MXN disponibles hoy valen más que los $\\$10000$ MXN que se recibirán en un año.\n",
    "\n",
    "Referencia:\n",
    "- Vidaurri Aguirre, Héctor Manuel. *Ingeniería económica básica*, ISBN: 978-607-519-017-4. (Disponible en biblioteca)"
   ]
  },
  {
   "cell_type": "markdown",
   "metadata": {},
   "source": [
    "Referencias:\n",
    "- http://www.sympy.org\n",
    "- http://matplotlib.org\n",
    "- http://www.numpy.org\n",
    "- http://ipywidgets.readthedocs.io/en/latest/index.html"
   ]
  },
  {
   "cell_type": "markdown",
   "metadata": {},
   "source": [
    "___\n",
    "## Interés\n",
    "Nos centraremos en como cambia el valor del dinero en el tiempo debido al **interés**. Existen dos tipos:"
   ]
  },
  {
   "cell_type": "markdown",
   "metadata": {},
   "source": [
    "### Capitalización por interés simple\n",
    "Este tipo de interés se calcula <font color=red>única y exclusivamente sobre la cantidad original que se invirtió</font>. Como consecuencia, el interés generado no forma parte del dinero que se invierte, es decir, los <font color=blue>intereses no ganan intereses</font>.\n",
    "\n",
    "Suponga que se tiene un capital inicial $C_0$ y se invierte a un plazo de $k$ periodos (pueden ser meses, trimestres, semestres, años...) a una tasa de **interés simple** por periodo $i$. Al final del primer periodo, el capital $C_1$ que se obtiene es:\n",
    "\n",
    "$$C_1=C_0+iC_0=C_0(1+i).$$\n",
    "\n",
    "De la misma manera, como el interés solo se calcula sobre el capital inicial, al final del segundo periodo, el capital $C_2$ que se obtiene es:\n",
    "\n",
    "$$C_2=C_1+iC_0=C_0+iC_0+iC_0=C_0(1+2i).$$\n",
    "\n",
    "Así, al final del $k-$ésimo periodo, el capital $C_k$ que se obtiene es:\n",
    "\n",
    "$$C_k=C_{k-1}+iC_0=C_0+kiC_0=C_0(1+ki).$$"
   ]
  },
  {
   "cell_type": "markdown",
   "metadata": {},
   "source": [
    "> **Ejemplo.** Suponga que se tiene un capital de $\\$10000$ MXN, el cual se pone en un fondo de inversión que paga una tasa de interés simple del $0.8\\%$ mensual. \n",
    "\n",
    "> Si se tiene una meta de ahorro de $\\$11000$ MXN sin inversiones adicionales, ¿cuántos meses se debería dejar invertido el dinero?"
   ]
  },
  {
   "cell_type": "code",
   "execution_count": 3,
   "metadata": {},
   "outputs": [
    {
     "name": "stdout",
     "output_type": "stream",
     "text": [
      "El número de meses requeridos para alcanzar 11000 pesos, es: 13.0. El capital generado es de 11040.0 pesos.\n"
     ]
    }
   ],
   "source": [
    "import numpy as np\n",
    "\n",
    "#Datos del problema\n",
    "C0,i,meta=10000,0.008,11000\n",
    "#Despejamos k\n",
    "k=np.ceil((meta/C0-1)/i)\n",
    "Ck=round(C0*(1+k*i),2)\n",
    "\n",
    "print('El número de meses requeridos para alcanzar ',meta, ' pesos, es: ',k,\n",
    "      '. El capital generado es de ',Ck,' pesos.',sep='')"
   ]
  },
  {
   "cell_type": "markdown",
   "metadata": {},
   "source": [
    "> <font color=blue>**Actividad.**</font>\n",
    "1. ¿Qué pasa si el interés no es del $0.8\\%$ mensual sino del $1\\%$ mensual?\n",
    "2. ¿Qué pasa si la meta no son $\\$11000$ MXN si no $\\$12000$ MXN?"
   ]
  },
  {
   "cell_type": "code",
   "execution_count": null,
   "metadata": {},
   "outputs": [],
   "source": []
  },
  {
   "cell_type": "markdown",
   "metadata": {},
   "source": [
    "> Una gráfica que nos permite ilustrar la situación anterior se puede realizar de la siguiente manera."
   ]
  },
  {
   "cell_type": "code",
   "execution_count": 4,
   "metadata": {
    "scrolled": false
   },
   "outputs": [],
   "source": [
    "import matplotlib.pyplot as plt\n",
    "%matplotlib inline\n",
    "from ipywidgets import *"
   ]
  },
  {
   "cell_type": "code",
   "execution_count": 5,
   "metadata": {},
   "outputs": [
    {
     "data": {
      "application/vnd.jupyter.widget-view+json": {
       "model_id": "dd31d1da42604997a7e4091fcf6cf007",
       "version_major": 2,
       "version_minor": 0
      },
      "text/plain": [
       "interactive(children=(IntSlider(value=11500, description='meta', max=12000, min=11000, step=100), Button(descr…"
      ]
     },
     "metadata": {},
     "output_type": "display_data"
    },
    {
     "data": {
      "text/plain": [
       "<function __main__.interes_simple(C0, meta, i)>"
      ]
     },
     "execution_count": 5,
     "metadata": {},
     "output_type": "execute_result"
    }
   ],
   "source": [
    "def interes_simple(C0,meta,i):\n",
    "    #Despejamos k\n",
    "    k=np.ceil((meta/C0-1)/i) #Se trunca el periodo hacia arriba\n",
    "    k=k.astype(int)          #k como entero\n",
    "    \n",
    "    Ck=C0*(1+k*i)            #Cálculo del capital al periodo k\n",
    "    Ck=round(Ck,2)           #Redondeo a dos cifras\n",
    "    \n",
    "    #Gráfica\n",
    "    periodos=np.linspace(0,k,k+1) #Vector de periodos de 0 hasta k\n",
    "    Capitales=C0*(1+periodos*i)   #Vector de Capitales\n",
    "    plt.figure(num=1)             #Se crea la misma figura (mismo identificador)\n",
    "    plt.clf()                     #Se borra el gráfico anterior\n",
    "    plt.plot(periodos,Capitales,'*',ms=10)\n",
    "    plt.xlabel('$k$')\n",
    "    plt.ylabel('$C_k$')\n",
    "    plt.plot([0,k],[meta,meta],'--k') #Se grafica la meta\n",
    "    plt.grid()\n",
    "    plt.show()\n",
    "    print('El número de meses requeridos para alcanzar ',meta, ' pesos, es: ',k,\n",
    "      '. El capital generado es de ',Ck,' pesos.',sep='')\n",
    "    \n",
    "interact_manual(interes_simple,meta=(11000,12000,100),C0=fixed(10000),i=fixed(0.008))    "
   ]
  },
  {
   "cell_type": "markdown",
   "metadata": {},
   "source": [
    "Como se esperaba, el capital en el $k-$ésimo periodo $C_k=C_0(1+ki)$ crece linealmente con $k$."
   ]
  },
  {
   "cell_type": "markdown",
   "metadata": {},
   "source": [
    "### Capitalización por interés compuesto\n",
    "El capital que genera el interés simple permanece constante todo el tiempo de duración de la inversión. En cambio, el que produce el interés compuesto en un periodo se <font color=red>convierte en capital en el siguiente periodo</font>. Esto es, el interés generado al final de un periodo <font color=blue>se reinvierte para el siguiente periodo para también producir interés</font>.\n",
    "\n",
    "Suponga que se tiene un capital inicial $C_0$, y se va a ceder el uso de este capital por un periodo de tiempo determinado a una tasa de interés $i$. El capital que se obtiene al final del primer periodo $C_1$ se puede calcular por\n",
    "\n",
    "$$C_1=C_0(1+i).$$ \n",
    "\n",
    "Si la anterior suma se vuelve a ceder a la misma tasa de interés, al final del periodo dos el capital $C_2$ es \n",
    "\n",
    "$$C_2=C_1(1+i)=C_0(1+i)^2.$$\n",
    "\n",
    "Si se repite el anterior proceso $k$ veces, el capital al final del $k-$ésimo periodo $C_k$ es \n",
    "\n",
    "$$C_k=C_{k-1}(1+i)=C_0(1+i)^k.$$\n",
    "\n",
    "**Referencia**:\n",
    "- https://es.wikipedia.org/wiki/Inter%C3%A9s_compuesto."
   ]
  },
  {
   "cell_type": "markdown",
   "metadata": {},
   "source": [
    "> **Ejemplo.** Suponga que se tiene un capital de $\\$10000$ MXN, el cual se pone en un fondo de inversión que paga una tasa de interés del $0.8\\%$ mensual. \n",
    "\n",
    "> Si se tiene una meta de ahorro de $\\$11000$ MXN sin inversiones adicionales, ¿cuántos meses se debería dejar invertido el dinero?"
   ]
  },
  {
   "cell_type": "code",
   "execution_count": 6,
   "metadata": {},
   "outputs": [
    {
     "name": "stdout",
     "output_type": "stream",
     "text": [
      "El número de meses requeridos para alcanzar 11000 pesos, es: 12.0. El capital generado es de 11003.39 pesos.\n"
     ]
    }
   ],
   "source": [
    "#Datos\n",
    "C0,i,meta=10000,0.008,11000\n",
    "#Despejamos k\n",
    "k=np.ceil(np.log(meta/C0)/np.log(1+i))\n",
    "#Cálculo del capital al periodo k\n",
    "Ck=round(C0*(1+i)**k,2)\n",
    "\n",
    "print('El número de meses requeridos para alcanzar ',meta, ' pesos, es: ',k,\n",
    "      '. El capital generado es de ',Ck,' pesos.',sep='')"
   ]
  },
  {
   "cell_type": "markdown",
   "metadata": {},
   "source": [
    "> Una gráfica que nos permite ilustrar la situación anterior se puede realizar de la siguiente manera."
   ]
  },
  {
   "cell_type": "code",
   "execution_count": 7,
   "metadata": {},
   "outputs": [
    {
     "data": {
      "application/vnd.jupyter.widget-view+json": {
       "model_id": "138f97b0143b42eaba1a533047a38a3e",
       "version_major": 2,
       "version_minor": 0
      },
      "text/plain": [
       "interactive(children=(IntSlider(value=15000, description='meta', max=20000, min=10000, step=100), Button(descr…"
      ]
     },
     "metadata": {},
     "output_type": "display_data"
    },
    {
     "data": {
      "text/plain": [
       "<function __main__.interes_compuesto(C0, meta, i)>"
      ]
     },
     "execution_count": 7,
     "metadata": {},
     "output_type": "execute_result"
    }
   ],
   "source": [
    "def interes_compuesto(C0,meta,i):\n",
    "    #Despejamos k\n",
    "    k=np.ceil(np.log(meta/C0)/np.log(1+i)) #Se trunca el periodo hacia arriba\n",
    "    k=k.astype(int)                        #k como entero\n",
    "    \n",
    "    Ck=C0*(1+i)**k                         #Cálculo del capital al periodo k\n",
    "    Ck=round(Ck,2)                         #Redondeo a dos cifras\n",
    "    \n",
    "    #Gráfica\n",
    "    periodos=np.linspace(0,k,k+1)  #Vector de periodos de 0 hasta k\n",
    "    Capitales=C0*(1+i)**periodos   #Vector de Capitales\n",
    "    plt.figure(num=1)              #Se crea la misma figura (mismo identificador)\n",
    "    plt.clf()                      #Se borra el gráfico anterior\n",
    "    plt.plot(periodos,Capitales,'*',ms=10)\n",
    "    plt.xlabel('$k$')\n",
    "    plt.ylabel('$C_k$')\n",
    "    plt.plot([0,k],[meta,meta],'--k') #Se grafica la meta\n",
    "    plt.grid()\n",
    "    plt.show()\n",
    "    print('El número de meses requeridos para alcanzar ',meta, ' pesos, es: ',k,\n",
    "      '. El capital generado es de ',Ck,' pesos.',sep='')\n",
    "    \n",
    "interact_manual(interes_compuesto,meta=(10000,20000,100),C0=fixed(10000),i=fixed(0.008))   "
   ]
  },
  {
   "cell_type": "markdown",
   "metadata": {},
   "source": [
    "El capital en el $k-$ésimo periodo $C_k=C_0(1+i)^k$ crece de manera exponencial con $k$."
   ]
  },
  {
   "cell_type": "markdown",
   "metadata": {},
   "source": [
    "> <font color=blue>**Actividad.**</font>\n",
    "> - Modificar el código anterior para dejar fija la meta de ahorro y variar la tasa de interés compuesta."
   ]
  },
  {
   "cell_type": "code",
   "execution_count": null,
   "metadata": {},
   "outputs": [],
   "source": []
  },
  {
   "cell_type": "markdown",
   "metadata": {},
   "source": [
    "### Capitalización continua de intereses\n",
    "La capitalización continua se considera un tipo de capitalización compuesta, en la que a cada instante de tiempo $t$ se capitalizan los intereses. Es decir, la frecuencia de capitalización es infinita (o, equivalentemente, el periodo de capitalización tiende a cero).\n",
    "\n",
    "Suponga que se tiene un capital inicial $C_0$, y que el capital acumulado en el tiempo $t$ es $C(t)$. Queremos saber cuanto será el capital pasado un periodo de tiempo $\\Delta t$, dado que la tasa de interés efectiva para este periodo de tiempo es $i$. De acuerdo a lo anterior tenemos\n",
    "\n",
    "$$C(t+\\Delta t)=C(t)(1+i)=C(t)(1+r\\Delta t),$$\n",
    "\n",
    "donde $r=\\frac{i}{\\Delta t}$ es la tasa de interés instantánea. Manipulando la anterior expresión, obtenemos\n",
    "\n",
    "$$\\frac{C(t+\\Delta t)-C(t)}{\\Delta t}=r\\; C(t).$$\n",
    "\n",
    "Haciendo $\\Delta t\\to 0$, obtenemos la siguiente ecuación diferencial \n",
    "\n",
    "$$\\frac{d C(t)}{dt}=r\\; C(t),$$\n",
    "\n",
    "sujeta a la condición inicial (monto o capital inicial) $C(0)=C_0$.\n",
    "\n",
    "La anterior, es una ecuación diferencial lineal de primer orden, para la cual se puede calcular la *solución analítica*."
   ]
  },
  {
   "cell_type": "markdown",
   "metadata": {},
   "source": [
    "$$C(t) = C_0e^{rt}$$\n",
    "\n",
    "La equivalencia entre la tasa de interés compuesta $i$ y la tasa de interés instantánea $r$ viene dada por\n",
    "\n",
    "$$e^r=1+i.$$"
   ]
  },
  {
   "cell_type": "markdown",
   "metadata": {},
   "source": [
    "___\n",
    "¿Cómo podemos calcular la *solución numérica*?"
   ]
  },
  {
   "cell_type": "markdown",
   "metadata": {},
   "source": [
    "> **Ejemplo.** Suponga que se tiene un capital de $\\$10000$ MXN, el cual se pone en un fondo de inversión que paga una tasa de interés del $0.8\\%$ mensual. \n",
    "\n",
    "> Si se tiene una meta de ahorro de $\\$11000$ MXN sin inversiones adicionales, ¿cuánto tiempo se debe dejar invertido el dinero?\n",
    "\n",
    "> Muestre una gráfica que ilustre la situación."
   ]
  },
  {
   "cell_type": "code",
   "execution_count": 8,
   "metadata": {},
   "outputs": [],
   "source": [
    "# Librerías para integración numérica\n",
    "from scipy.integrate import odeint"
   ]
  },
  {
   "cell_type": "code",
   "execution_count": 9,
   "metadata": {},
   "outputs": [],
   "source": [
    "# Modelo de capitalización continua\n",
    "def cap_cont(C,t,r):\n",
    "    return r*C"
   ]
  },
  {
   "cell_type": "code",
   "execution_count": 10,
   "metadata": {
    "scrolled": false
   },
   "outputs": [
    {
     "data": {
      "application/vnd.jupyter.widget-view+json": {
       "model_id": "f9494f27bc784c5e9f52fa8ff152eba6",
       "version_major": 2,
       "version_minor": 0
      },
      "text/plain": [
       "interactive(children=(IntSlider(value=11500, description='meta', max=12000, min=11000, step=100), Button(descr…"
      ]
     },
     "metadata": {},
     "output_type": "display_data"
    },
    {
     "data": {
      "text/plain": [
       "<function __main__.interes_continuo(C0, r, meta)>"
      ]
     },
     "execution_count": 10,
     "metadata": {},
     "output_type": "execute_result"
    }
   ],
   "source": [
    "def interes_continuo(C0,r,meta):\n",
    "    #Despejamos el tiempo\n",
    "    t=np.log(meta/C0)/r\n",
    "    #Vector de periodos\n",
    "    tiempo=np.linspace(0,t,100)\n",
    "    #Vector de capitales\n",
    "    C=odeint(cap_cont,C0,tiempo,args=(r,))\n",
    "    \n",
    "    #Gráfica\n",
    "    plt.figure(num=1)              #Se crea la misma figura (mismo identificador)\n",
    "    plt.clf()                      #Se borra el gráfico anterior\n",
    "    plt.plot(tiempo,C,linewidth=3)\n",
    "    plt.xlabel('$k$')\n",
    "    plt.ylabel('$C_k$')\n",
    "    plt.plot([0,t],[meta,meta],'--k') #Se grafica la meta\n",
    "    plt.grid()\n",
    "    plt.show()\n",
    "    print('El número de meses requeridos para alcanzar ',meta, ' pesos, es: ',t,\n",
    "      '. El capital generado es de ',round(C[-1][0],2),' pesos.',sep='')\n",
    "interact_manual(interes_continuo,meta=(11000,12000,100),C0=fixed(10000),r=fixed(np.log(1+i)))"
   ]
  },
  {
   "cell_type": "markdown",
   "metadata": {},
   "source": [
    "___\n",
    "## Tabla de abonos\n",
    "Como aplicación importante del concepto de interés compuesto se encuentra la creación de un modelo de cuenta de ahorro.\n",
    "\n",
    "Referencia:\n",
    "- Vidaurri Aguirre, Héctor Manuel. *Ingeniería económica básica*, ISBN: 978-607-519-017-4. (Disponible en biblioteca)\n",
    "- http://pbpython.com/amortization-model.html\n",
    "- https://pbpython.com/amortization-model-revised.html"
   ]
  },
  {
   "cell_type": "code",
   "execution_count": 11,
   "metadata": {},
   "outputs": [],
   "source": [
    "# Librería de análisis de datos\n",
    "import pandas as pd\n",
    "# Librería para manipulación de fechas\n",
    "from datetime import date"
   ]
  },
  {
   "cell_type": "code",
   "execution_count": 12,
   "metadata": {},
   "outputs": [],
   "source": [
    "# Datos para la cuenta de ahorro\n",
    "Tasa_interes=0.005 #Tasa de interes anual\n",
    "Y=3                #Meta a tres años\n",
    "meta=80000\n",
    "Abonos_anuales=12  #Abonos mensuales\n",
    "inicial=1000\n",
    "fecha_i=date(2019,11,28)"
   ]
  },
  {
   "cell_type": "code",
   "execution_count": 13,
   "metadata": {},
   "outputs": [
    {
     "data": {
      "text/plain": [
       "2211.4010590710977"
      ]
     },
     "execution_count": 13,
     "metadata": {},
     "output_type": "execute_result"
    }
   ],
   "source": [
    "#Calculamos los abonos mensuales\n",
    "#np.pmt?\n",
    "Abono=-np.pmt(Tasa_interes/Abonos_anuales,Y*Abonos_anuales,meta-inicial)\n",
    "Abono"
   ]
  },
  {
   "cell_type": "code",
   "execution_count": 14,
   "metadata": {},
   "outputs": [],
   "source": [
    "#Rango de fechas en la tabla\n",
    "rango=pd.date_range(fecha_i,freq='MS',periods=Y*Abonos_anuales)\n",
    "rango.name='Fechas de abonos'\n",
    "#Creamos la tabla\n",
    "tabla=pd.DataFrame(index=rango,columns=['Abono','Balance'],dtype=float)"
   ]
  },
  {
   "cell_type": "code",
   "execution_count": 17,
   "metadata": {},
   "outputs": [],
   "source": [
    "i=Tasa_interes/Abonos_anuales\n",
    "tabla['Abono']=Abono\n",
    "indice=np.arange(1,len(rango)+1)\n",
    "tabla['Balance']=inicial*(1+i)**indice+Abono*((1+i)**indice-1)/i\n"
   ]
  },
  {
   "cell_type": "code",
   "execution_count": 18,
   "metadata": {},
   "outputs": [
    {
     "data": {
      "text/html": [
       "<div>\n",
       "<style scoped>\n",
       "    .dataframe tbody tr th:only-of-type {\n",
       "        vertical-align: middle;\n",
       "    }\n",
       "\n",
       "    .dataframe tbody tr th {\n",
       "        vertical-align: top;\n",
       "    }\n",
       "\n",
       "    .dataframe thead th {\n",
       "        text-align: right;\n",
       "    }\n",
       "</style>\n",
       "<table border=\"1\" class=\"dataframe\">\n",
       "  <thead>\n",
       "    <tr style=\"text-align: right;\">\n",
       "      <th></th>\n",
       "      <th>Abono</th>\n",
       "      <th>Balance</th>\n",
       "    </tr>\n",
       "    <tr>\n",
       "      <th>Fechas de abonos</th>\n",
       "      <th></th>\n",
       "      <th></th>\n",
       "    </tr>\n",
       "  </thead>\n",
       "  <tbody>\n",
       "    <tr>\n",
       "      <th>2019-12-01</th>\n",
       "      <td>2211.4</td>\n",
       "      <td>3211.82</td>\n",
       "    </tr>\n",
       "    <tr>\n",
       "      <th>2020-01-01</th>\n",
       "      <td>2211.4</td>\n",
       "      <td>5424.56</td>\n",
       "    </tr>\n",
       "    <tr>\n",
       "      <th>2020-02-01</th>\n",
       "      <td>2211.4</td>\n",
       "      <td>7638.22</td>\n",
       "    </tr>\n",
       "    <tr>\n",
       "      <th>2020-03-01</th>\n",
       "      <td>2211.4</td>\n",
       "      <td>9852.80</td>\n",
       "    </tr>\n",
       "    <tr>\n",
       "      <th>2020-04-01</th>\n",
       "      <td>2211.4</td>\n",
       "      <td>12068.31</td>\n",
       "    </tr>\n",
       "    <tr>\n",
       "      <th>2020-05-01</th>\n",
       "      <td>2211.4</td>\n",
       "      <td>14284.74</td>\n",
       "    </tr>\n",
       "    <tr>\n",
       "      <th>2020-06-01</th>\n",
       "      <td>2211.4</td>\n",
       "      <td>16502.09</td>\n",
       "    </tr>\n",
       "    <tr>\n",
       "      <th>2020-07-01</th>\n",
       "      <td>2211.4</td>\n",
       "      <td>18720.37</td>\n",
       "    </tr>\n",
       "    <tr>\n",
       "      <th>2020-08-01</th>\n",
       "      <td>2211.4</td>\n",
       "      <td>20939.57</td>\n",
       "    </tr>\n",
       "    <tr>\n",
       "      <th>2020-09-01</th>\n",
       "      <td>2211.4</td>\n",
       "      <td>23159.69</td>\n",
       "    </tr>\n",
       "    <tr>\n",
       "      <th>2020-10-01</th>\n",
       "      <td>2211.4</td>\n",
       "      <td>25380.75</td>\n",
       "    </tr>\n",
       "    <tr>\n",
       "      <th>2020-11-01</th>\n",
       "      <td>2211.4</td>\n",
       "      <td>27602.72</td>\n",
       "    </tr>\n",
       "    <tr>\n",
       "      <th>2020-12-01</th>\n",
       "      <td>2211.4</td>\n",
       "      <td>29825.62</td>\n",
       "    </tr>\n",
       "    <tr>\n",
       "      <th>2021-01-01</th>\n",
       "      <td>2211.4</td>\n",
       "      <td>32049.45</td>\n",
       "    </tr>\n",
       "    <tr>\n",
       "      <th>2021-02-01</th>\n",
       "      <td>2211.4</td>\n",
       "      <td>34274.21</td>\n",
       "    </tr>\n",
       "    <tr>\n",
       "      <th>2021-03-01</th>\n",
       "      <td>2211.4</td>\n",
       "      <td>36499.89</td>\n",
       "    </tr>\n",
       "    <tr>\n",
       "      <th>2021-04-01</th>\n",
       "      <td>2211.4</td>\n",
       "      <td>38726.50</td>\n",
       "    </tr>\n",
       "    <tr>\n",
       "      <th>2021-05-01</th>\n",
       "      <td>2211.4</td>\n",
       "      <td>40954.04</td>\n",
       "    </tr>\n",
       "    <tr>\n",
       "      <th>2021-06-01</th>\n",
       "      <td>2211.4</td>\n",
       "      <td>43182.50</td>\n",
       "    </tr>\n",
       "    <tr>\n",
       "      <th>2021-07-01</th>\n",
       "      <td>2211.4</td>\n",
       "      <td>45411.90</td>\n",
       "    </tr>\n",
       "    <tr>\n",
       "      <th>2021-08-01</th>\n",
       "      <td>2211.4</td>\n",
       "      <td>47642.22</td>\n",
       "    </tr>\n",
       "    <tr>\n",
       "      <th>2021-09-01</th>\n",
       "      <td>2211.4</td>\n",
       "      <td>49873.47</td>\n",
       "    </tr>\n",
       "    <tr>\n",
       "      <th>2021-10-01</th>\n",
       "      <td>2211.4</td>\n",
       "      <td>52105.65</td>\n",
       "    </tr>\n",
       "    <tr>\n",
       "      <th>2021-11-01</th>\n",
       "      <td>2211.4</td>\n",
       "      <td>54338.76</td>\n",
       "    </tr>\n",
       "    <tr>\n",
       "      <th>2021-12-01</th>\n",
       "      <td>2211.4</td>\n",
       "      <td>56572.81</td>\n",
       "    </tr>\n",
       "    <tr>\n",
       "      <th>2022-01-01</th>\n",
       "      <td>2211.4</td>\n",
       "      <td>58807.78</td>\n",
       "    </tr>\n",
       "    <tr>\n",
       "      <th>2022-02-01</th>\n",
       "      <td>2211.4</td>\n",
       "      <td>61043.68</td>\n",
       "    </tr>\n",
       "    <tr>\n",
       "      <th>2022-03-01</th>\n",
       "      <td>2211.4</td>\n",
       "      <td>63280.52</td>\n",
       "    </tr>\n",
       "    <tr>\n",
       "      <th>2022-04-01</th>\n",
       "      <td>2211.4</td>\n",
       "      <td>65518.29</td>\n",
       "    </tr>\n",
       "    <tr>\n",
       "      <th>2022-05-01</th>\n",
       "      <td>2211.4</td>\n",
       "      <td>67756.99</td>\n",
       "    </tr>\n",
       "    <tr>\n",
       "      <th>2022-06-01</th>\n",
       "      <td>2211.4</td>\n",
       "      <td>69996.62</td>\n",
       "    </tr>\n",
       "    <tr>\n",
       "      <th>2022-07-01</th>\n",
       "      <td>2211.4</td>\n",
       "      <td>72237.19</td>\n",
       "    </tr>\n",
       "    <tr>\n",
       "      <th>2022-08-01</th>\n",
       "      <td>2211.4</td>\n",
       "      <td>74478.69</td>\n",
       "    </tr>\n",
       "    <tr>\n",
       "      <th>2022-09-01</th>\n",
       "      <td>2211.4</td>\n",
       "      <td>76721.12</td>\n",
       "    </tr>\n",
       "    <tr>\n",
       "      <th>2022-10-01</th>\n",
       "      <td>2211.4</td>\n",
       "      <td>78964.49</td>\n",
       "    </tr>\n",
       "    <tr>\n",
       "      <th>2022-11-01</th>\n",
       "      <td>2211.4</td>\n",
       "      <td>81208.79</td>\n",
       "    </tr>\n",
       "  </tbody>\n",
       "</table>\n",
       "</div>"
      ],
      "text/plain": [
       "                   Abono   Balance\n",
       "Fechas de abonos                  \n",
       "2019-12-01        2211.4   3211.82\n",
       "2020-01-01        2211.4   5424.56\n",
       "2020-02-01        2211.4   7638.22\n",
       "2020-03-01        2211.4   9852.80\n",
       "2020-04-01        2211.4  12068.31\n",
       "2020-05-01        2211.4  14284.74\n",
       "2020-06-01        2211.4  16502.09\n",
       "2020-07-01        2211.4  18720.37\n",
       "2020-08-01        2211.4  20939.57\n",
       "2020-09-01        2211.4  23159.69\n",
       "2020-10-01        2211.4  25380.75\n",
       "2020-11-01        2211.4  27602.72\n",
       "2020-12-01        2211.4  29825.62\n",
       "2021-01-01        2211.4  32049.45\n",
       "2021-02-01        2211.4  34274.21\n",
       "2021-03-01        2211.4  36499.89\n",
       "2021-04-01        2211.4  38726.50\n",
       "2021-05-01        2211.4  40954.04\n",
       "2021-06-01        2211.4  43182.50\n",
       "2021-07-01        2211.4  45411.90\n",
       "2021-08-01        2211.4  47642.22\n",
       "2021-09-01        2211.4  49873.47\n",
       "2021-10-01        2211.4  52105.65\n",
       "2021-11-01        2211.4  54338.76\n",
       "2021-12-01        2211.4  56572.81\n",
       "2022-01-01        2211.4  58807.78\n",
       "2022-02-01        2211.4  61043.68\n",
       "2022-03-01        2211.4  63280.52\n",
       "2022-04-01        2211.4  65518.29\n",
       "2022-05-01        2211.4  67756.99\n",
       "2022-06-01        2211.4  69996.62\n",
       "2022-07-01        2211.4  72237.19\n",
       "2022-08-01        2211.4  74478.69\n",
       "2022-09-01        2211.4  76721.12\n",
       "2022-10-01        2211.4  78964.49\n",
       "2022-11-01        2211.4  81208.79"
      ]
     },
     "execution_count": 18,
     "metadata": {},
     "output_type": "execute_result"
    }
   ],
   "source": [
    "# Redondear con dos cifras decimales y mostrar DataFrame\n",
    "tabla.round(2)"
   ]
  }
 ],
 "metadata": {
  "kernelspec": {
   "display_name": "Python 3",
   "language": "python",
   "name": "python3"
  },
  "language_info": {
   "codemirror_mode": {
    "name": "ipython",
    "version": 3
   },
   "file_extension": ".py",
   "mimetype": "text/x-python",
   "name": "python",
   "nbconvert_exporter": "python",
   "pygments_lexer": "ipython3",
   "version": "3.7.3"
  }
 },
 "nbformat": 4,
 "nbformat_minor": 2
}
